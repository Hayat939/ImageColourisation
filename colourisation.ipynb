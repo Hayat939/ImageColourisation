{
 "cells": [
  {
   "cell_type": "markdown",
   "source": [
    "# Coourisation of black and white photos - Notebook\n",
    "### Haaris Hayat\n",
    "\n",
    "This notebook can be used to generate all of the results included in the associated PDF report for converting black and white photos to colour.\n",
    "All the results were obtained on a Macbook with the following specifications:\n",
    "\n",
    "  Processor Name:\t8-Core Intel Core i9\n",
    "  Processor Speed:\t2.4 GHz\n",
    "  Number of Processors:\t1\n",
    "  Total Number of Cores:\t8\n",
    "  L2 Cache (per Core):\t256 KB\n",
    "  L3 Cache:\t16 MB\n",
    "  Hyper-Threading Technology:\tEnabled\n",
    "  Memory:\t32 GB\n",
    "\n",
    "On this system, the entire script ran in around 12 minutes using default resolutions.\n",
    "\n",
    "Note that several functions contain the option to use a GPU, I have left these in case this helps to speed up the process.\n",
    "However since I do not have access to a dedicated GPU, I have not tested this functionality."
   ],
   "metadata": {
    "collapsed": false,
    "pycharm": {
     "name": "#%% md\n",
     "is_executing": true
    }
   },
   "outputs": []
  },
  {
   "cell_type": "markdown",
   "source": [
    "## Initial setup\n",
    "These steps only need to be performed once. Firstly,"
   ],
   "metadata": {
    "collapsed": false
   }
  },
  {
   "cell_type": "code",
   "source": [
    "from datetime import datetime\n",
    "a=datetime.now()\n",
    "# The colorization model by Richard Zhang is not available as a package\n",
    "# We therefore need to clone the repo into our project\n",
    "!git clone https://github.com/richzhang/colorization.git"
   ],
   "metadata": {
    "collapsed": false,
    "pycharm": {
     "name": "#%%\n"
    }
   },
   "execution_count": 1,
   "outputs": [
    {
     "name": "stdout",
     "output_type": "stream",
     "text": [
      "fatal: destination path 'colorization' already exists and is not an empty directory.\r\n"
     ]
    }
   ]
  },
  {
   "cell_type": "code",
   "execution_count": 2,
   "outputs": [
    {
     "name": "stdout",
     "output_type": "stream",
     "text": [
      "Requirement already satisfied: jupyter in /Users/hhayat002/Documents/MLDS/UDA/test2/UDA_test/lib/python3.9/site-packages (from -r requirements.txt (line 1)) (1.0.0)\r\n",
      "Collecting torch\r\n",
      "  Using cached torch-1.13.1-cp39-none-macosx_10_9_x86_64.whl (135.3 MB)\r\n",
      "Collecting scikit-image\r\n",
      "  Using cached scikit_image-0.19.3-cp39-cp39-macosx_10_13_x86_64.whl (13.3 MB)\r\n",
      "Collecting numpy\r\n",
      "  Using cached numpy-1.24.1-cp39-cp39-macosx_10_9_x86_64.whl (19.8 MB)\r\n",
      "Collecting matplotlib\r\n",
      "  Using cached matplotlib-3.6.2-cp39-cp39-macosx_10_12_x86_64.whl (7.3 MB)\r\n",
      "Collecting argparse\r\n",
      "  Using cached argparse-1.4.0-py2.py3-none-any.whl (23 kB)\r\n",
      "Collecting fastai==1.0.51\r\n",
      "  Using cached fastai-1.0.51-py3-none-any.whl (214 kB)\r\n",
      "Collecting tensorboardX\r\n",
      "  Using cached tensorboardX-2.5.1-py2.py3-none-any.whl (125 kB)\r\n",
      "Collecting ffmpeg-python\r\n",
      "  Using cached ffmpeg_python-0.2.0-py3-none-any.whl (25 kB)\r\n",
      "Collecting yt-dlp\r\n",
      "  Using cached yt_dlp-2023.1.2-py2.py3-none-any.whl (2.8 MB)\r\n",
      "Collecting opencv-python\r\n",
      "  Using cached opencv_python-4.7.0.68-cp37-abi3-macosx_10_13_x86_64.whl (51.7 MB)\r\n",
      "Collecting Pillow\r\n",
      "  Using cached Pillow-9.4.0-cp39-cp39-macosx_10_10_x86_64.whl (3.3 MB)\r\n",
      "Requirement already satisfied: tornado in /Users/hhayat002/Documents/MLDS/UDA/test2/UDA_test/lib/python3.9/site-packages (from -r requirements.txt (line 13)) (6.2)\r\n",
      "Collecting imgaug\r\n",
      "  Using cached imgaug-0.4.0-py2.py3-none-any.whl (948 kB)\r\n",
      "Collecting pandas\r\n",
      "  Using cached pandas-1.5.2-cp39-cp39-macosx_10_9_x86_64.whl (12.1 MB)\r\n",
      "Requirement already satisfied: beautifulsoup4 in /Users/hhayat002/Documents/MLDS/UDA/test2/UDA_test/lib/python3.9/site-packages (from fastai==1.0.51->-r requirements.txt (line 7)) (4.11.1)\r\n",
      "Collecting requests\r\n",
      "  Using cached requests-2.28.1-py3-none-any.whl (62 kB)\r\n",
      "Collecting fastprogress>=0.1.19\r\n",
      "  Using cached fastprogress-1.0.3-py3-none-any.whl (12 kB)\r\n",
      "Collecting torchvision\r\n",
      "  Using cached torchvision-0.14.1-cp39-cp39-macosx_10_9_x86_64.whl (1.4 MB)\r\n",
      "Requirement already satisfied: packaging in /Users/hhayat002/Documents/MLDS/UDA/test2/UDA_test/lib/python3.9/site-packages (from fastai==1.0.51->-r requirements.txt (line 7)) (22.0)\r\n",
      "Requirement already satisfied: pyyaml in /Users/hhayat002/Documents/MLDS/UDA/test2/UDA_test/lib/python3.9/site-packages (from fastai==1.0.51->-r requirements.txt (line 7)) (6.0)\r\n",
      "Collecting bottleneck\r\n",
      "  Using cached Bottleneck-1.3.5-cp39-cp39-macosx_10_9_x86_64.whl (118 kB)\r\n",
      "Collecting numexpr\r\n",
      "  Using cached numexpr-2.8.4-cp39-cp39-macosx_10_9_x86_64.whl (99 kB)\r\n",
      "Collecting nvidia-ml-py3\r\n",
      "  Using cached nvidia_ml_py3-7.352.0-py3-none-any.whl\r\n",
      "Collecting scipy\r\n",
      "  Using cached scipy-1.10.0-cp39-cp39-macosx_10_15_x86_64.whl (35.2 MB)\r\n",
      "Collecting spacy>=2.0.18\r\n",
      "  Using cached spacy-3.4.4-cp39-cp39-macosx_10_9_x86_64.whl (6.7 MB)\r\n",
      "Collecting typing\r\n",
      "  Using cached typing-3.7.4.3-py3-none-any.whl\r\n",
      "Collecting pynvx>=1.0.0\r\n",
      "  Using cached pynvx-1.0.0-cp39-cp39-macosx_10_9_x86_64.whl (119 kB)\r\n",
      "Requirement already satisfied: qtconsole in /Users/hhayat002/Documents/MLDS/UDA/test2/UDA_test/lib/python3.9/site-packages (from jupyter->-r requirements.txt (line 1)) (5.4.0)\r\n",
      "Requirement already satisfied: ipywidgets in /Users/hhayat002/Documents/MLDS/UDA/test2/UDA_test/lib/python3.9/site-packages (from jupyter->-r requirements.txt (line 1)) (8.0.4)\r\n",
      "Requirement already satisfied: ipykernel in /Users/hhayat002/Documents/MLDS/UDA/test2/UDA_test/lib/python3.9/site-packages (from jupyter->-r requirements.txt (line 1)) (6.19.4)\r\n",
      "Requirement already satisfied: jupyter-console in /Users/hhayat002/Documents/MLDS/UDA/test2/UDA_test/lib/python3.9/site-packages (from jupyter->-r requirements.txt (line 1)) (6.4.4)\r\n",
      "Requirement already satisfied: nbconvert in /Users/hhayat002/Documents/MLDS/UDA/test2/UDA_test/lib/python3.9/site-packages (from jupyter->-r requirements.txt (line 1)) (7.2.7)\r\n",
      "Requirement already satisfied: notebook in /Users/hhayat002/Documents/MLDS/UDA/test2/UDA_test/lib/python3.9/site-packages (from jupyter->-r requirements.txt (line 1)) (6.5.2)\r\n",
      "Collecting typing-extensions\r\n",
      "  Using cached typing_extensions-4.4.0-py3-none-any.whl (26 kB)\r\n",
      "Collecting imageio>=2.4.1\r\n",
      "  Using cached imageio-2.23.0-py3-none-any.whl (3.4 MB)\r\n",
      "Collecting networkx>=2.2\r\n",
      "  Using cached networkx-2.8.8-py3-none-any.whl (2.0 MB)\r\n",
      "Collecting tifffile>=2019.7.26\r\n",
      "  Using cached tifffile-2022.10.10-py3-none-any.whl (210 kB)\r\n",
      "Collecting PyWavelets>=1.1.1\r\n",
      "  Using cached PyWavelets-1.4.1-cp39-cp39-macosx_10_13_x86_64.whl (4.4 MB)\r\n",
      "Collecting kiwisolver>=1.0.1\r\n",
      "  Using cached kiwisolver-1.4.4-cp39-cp39-macosx_10_9_x86_64.whl (65 kB)\r\n",
      "Requirement already satisfied: python-dateutil>=2.7 in /Users/hhayat002/Documents/MLDS/UDA/test2/UDA_test/lib/python3.9/site-packages (from matplotlib->-r requirements.txt (line 5)) (2.8.2)\r\n",
      "Collecting cycler>=0.10\r\n",
      "  Using cached cycler-0.11.0-py3-none-any.whl (6.4 kB)\r\n",
      "Collecting pyparsing>=2.2.1\r\n",
      "  Using cached pyparsing-3.0.9-py3-none-any.whl (98 kB)\r\n",
      "Collecting contourpy>=1.0.1\r\n",
      "  Using cached contourpy-1.0.6-cp39-cp39-macosx_10_9_x86_64.whl (240 kB)\r\n",
      "Collecting fonttools>=4.22.0\r\n",
      "  Using cached fonttools-4.38.0-py3-none-any.whl (965 kB)\r\n",
      "Collecting protobuf<=3.20.1,>=3.8.0\r\n",
      "  Using cached protobuf-3.20.1-cp39-cp39-macosx_10_9_x86_64.whl (962 kB)\r\n",
      "Collecting future\r\n",
      "  Using cached future-0.18.2-py3-none-any.whl\r\n",
      "Collecting certifi\r\n",
      "  Using cached certifi-2022.12.7-py3-none-any.whl (155 kB)\r\n",
      "Collecting brotli\r\n",
      "  Using cached Brotli-1.0.9-cp39-cp39-macosx_10_9_x86_64.whl (421 kB)\r\n",
      "Collecting mutagen\r\n",
      "  Using cached mutagen-1.46.0-py3-none-any.whl (193 kB)\r\n",
      "Collecting websockets\r\n",
      "  Using cached websockets-10.4-cp39-cp39-macosx_10_9_x86_64.whl (97 kB)\r\n",
      "Collecting pycryptodomex\r\n",
      "  Using cached pycryptodomex-3.16.0-cp35-abi3-macosx_10_9_x86_64.whl (1.6 MB)\r\n",
      "Requirement already satisfied: six in /Users/hhayat002/Documents/MLDS/UDA/test2/UDA_test/lib/python3.9/site-packages (from imgaug->-r requirements.txt (line 14)) (1.16.0)\r\n",
      "Collecting Shapely\r\n",
      "  Using cached shapely-2.0.0-cp39-cp39-macosx_10_9_x86_64.whl (1.4 MB)\r\n",
      "Collecting murmurhash<1.1.0,>=0.28.0\r\n",
      "  Using cached murmurhash-1.0.9-cp39-cp39-macosx_10_9_x86_64.whl (18 kB)\r\n",
      "Collecting pathy>=0.3.5\r\n",
      "  Using cached pathy-0.10.1-py3-none-any.whl (48 kB)\r\n",
      "Collecting catalogue<2.1.0,>=2.0.6\r\n",
      "  Using cached catalogue-2.0.8-py3-none-any.whl (17 kB)\r\n",
      "Collecting thinc<8.2.0,>=8.1.0\r\n",
      "  Using cached thinc-8.1.6-cp39-cp39-macosx_10_9_x86_64.whl (776 kB)\r\n",
      "Collecting langcodes<4.0.0,>=3.2.0\r\n",
      "  Using cached langcodes-3.3.0-py3-none-any.whl (181 kB)\r\n",
      "Requirement already satisfied: jinja2 in /Users/hhayat002/Documents/MLDS/UDA/test2/UDA_test/lib/python3.9/site-packages (from spacy>=2.0.18->fastai==1.0.51->-r requirements.txt (line 7)) (3.1.2)\r\n",
      "Collecting pydantic!=1.8,!=1.8.1,<1.11.0,>=1.7.4\r\n",
      "  Using cached pydantic-1.10.4-cp39-cp39-macosx_10_9_x86_64.whl (2.9 MB)\r\n",
      "Collecting cymem<2.1.0,>=2.0.2\r\n",
      "  Using cached cymem-2.0.7-cp39-cp39-macosx_10_9_x86_64.whl (32 kB)\r\n",
      "Collecting tqdm<5.0.0,>=4.38.0\r\n",
      "  Using cached tqdm-4.64.1-py2.py3-none-any.whl (78 kB)\r\n",
      "Collecting srsly<3.0.0,>=2.4.3\r\n",
      "  Using cached srsly-2.4.5-cp39-cp39-macosx_10_9_x86_64.whl (491 kB)\r\n",
      "Collecting spacy-loggers<2.0.0,>=1.0.0\r\n",
      "  Using cached spacy_loggers-1.0.4-py3-none-any.whl (11 kB)\r\n",
      "Collecting preshed<3.1.0,>=3.0.2\r\n",
      "  Using cached preshed-3.0.8-cp39-cp39-macosx_10_9_x86_64.whl (107 kB)\r\n",
      "Collecting spacy-legacy<3.1.0,>=3.0.10\r\n",
      "  Using cached spacy_legacy-3.0.11-py2.py3-none-any.whl (24 kB)\r\n",
      "Collecting smart-open<7.0.0,>=5.2.1\r\n",
      "  Using cached smart_open-6.3.0-py3-none-any.whl (56 kB)\r\n",
      "Collecting wasabi<1.1.0,>=0.9.1\r\n",
      "  Using cached wasabi-0.10.1-py3-none-any.whl (26 kB)\r\n",
      "Collecting typer<0.8.0,>=0.3.0\r\n",
      "  Using cached typer-0.7.0-py3-none-any.whl (38 kB)\r\n",
      "Requirement already satisfied: setuptools in /Users/hhayat002/Documents/MLDS/UDA/test2/UDA_test/lib/python3.9/site-packages (from spacy>=2.0.18->fastai==1.0.51->-r requirements.txt (line 7)) (65.6.3)\r\n",
      "Requirement already satisfied: idna<4,>=2.5 in /Users/hhayat002/Documents/MLDS/UDA/test2/UDA_test/lib/python3.9/site-packages (from requests->fastai==1.0.51->-r requirements.txt (line 7)) (3.4)\r\n",
      "Collecting urllib3<1.27,>=1.21.1\r\n",
      "  Using cached urllib3-1.26.13-py2.py3-none-any.whl (140 kB)\r\n",
      "Collecting charset-normalizer<3,>=2\r\n",
      "  Using cached charset_normalizer-2.1.1-py3-none-any.whl (39 kB)\r\n",
      "Requirement already satisfied: soupsieve>1.2 in /Users/hhayat002/Documents/MLDS/UDA/test2/UDA_test/lib/python3.9/site-packages (from beautifulsoup4->fastai==1.0.51->-r requirements.txt (line 7)) (2.3.2.post1)\r\n",
      "Requirement already satisfied: psutil in /Users/hhayat002/Documents/MLDS/UDA/test2/UDA_test/lib/python3.9/site-packages (from ipykernel->jupyter->-r requirements.txt (line 1)) (5.9.4)\r\n",
      "Requirement already satisfied: debugpy>=1.0 in /Users/hhayat002/Documents/MLDS/UDA/test2/UDA_test/lib/python3.9/site-packages (from ipykernel->jupyter->-r requirements.txt (line 1)) (1.6.4)\r\n",
      "Requirement already satisfied: pyzmq>=17 in /Users/hhayat002/Documents/MLDS/UDA/test2/UDA_test/lib/python3.9/site-packages (from ipykernel->jupyter->-r requirements.txt (line 1)) (24.0.1)\r\n",
      "Requirement already satisfied: jupyter-client>=6.1.12 in /Users/hhayat002/Documents/MLDS/UDA/test2/UDA_test/lib/python3.9/site-packages (from ipykernel->jupyter->-r requirements.txt (line 1)) (7.4.8)\r\n",
      "Requirement already satisfied: ipython>=7.23.1 in /Users/hhayat002/Documents/MLDS/UDA/test2/UDA_test/lib/python3.9/site-packages (from ipykernel->jupyter->-r requirements.txt (line 1)) (8.8.0)\r\n",
      "Requirement already satisfied: comm>=0.1.1 in /Users/hhayat002/Documents/MLDS/UDA/test2/UDA_test/lib/python3.9/site-packages (from ipykernel->jupyter->-r requirements.txt (line 1)) (0.1.2)\r\n",
      "Requirement already satisfied: nest-asyncio in /Users/hhayat002/Documents/MLDS/UDA/test2/UDA_test/lib/python3.9/site-packages (from ipykernel->jupyter->-r requirements.txt (line 1)) (1.5.6)\r\n",
      "Requirement already satisfied: matplotlib-inline>=0.1 in /Users/hhayat002/Documents/MLDS/UDA/test2/UDA_test/lib/python3.9/site-packages (from ipykernel->jupyter->-r requirements.txt (line 1)) (0.1.6)\r\n",
      "Requirement already satisfied: traitlets>=5.4.0 in /Users/hhayat002/Documents/MLDS/UDA/test2/UDA_test/lib/python3.9/site-packages (from ipykernel->jupyter->-r requirements.txt (line 1)) (5.8.0)\r\n",
      "Requirement already satisfied: appnope in /Users/hhayat002/Documents/MLDS/UDA/test2/UDA_test/lib/python3.9/site-packages (from ipykernel->jupyter->-r requirements.txt (line 1)) (0.1.3)\r\n",
      "Requirement already satisfied: widgetsnbextension~=4.0 in /Users/hhayat002/Documents/MLDS/UDA/test2/UDA_test/lib/python3.9/site-packages (from ipywidgets->jupyter->-r requirements.txt (line 1)) (4.0.5)\r\n",
      "Requirement already satisfied: jupyterlab-widgets~=3.0 in /Users/hhayat002/Documents/MLDS/UDA/test2/UDA_test/lib/python3.9/site-packages (from ipywidgets->jupyter->-r requirements.txt (line 1)) (3.0.5)\r\n",
      "Requirement already satisfied: pygments in /Users/hhayat002/Documents/MLDS/UDA/test2/UDA_test/lib/python3.9/site-packages (from jupyter-console->jupyter->-r requirements.txt (line 1)) (2.14.0)\r\n",
      "Requirement already satisfied: prompt-toolkit!=3.0.0,!=3.0.1,<3.1.0,>=2.0.0 in /Users/hhayat002/Documents/MLDS/UDA/test2/UDA_test/lib/python3.9/site-packages (from jupyter-console->jupyter->-r requirements.txt (line 1)) (3.0.36)\r\n",
      "Requirement already satisfied: nbformat>=5.1 in /Users/hhayat002/Documents/MLDS/UDA/test2/UDA_test/lib/python3.9/site-packages (from nbconvert->jupyter->-r requirements.txt (line 1)) (5.7.1)\r\n",
      "Requirement already satisfied: bleach in /Users/hhayat002/Documents/MLDS/UDA/test2/UDA_test/lib/python3.9/site-packages (from nbconvert->jupyter->-r requirements.txt (line 1)) (5.0.1)\r\n",
      "Requirement already satisfied: mistune<3,>=2.0.3 in /Users/hhayat002/Documents/MLDS/UDA/test2/UDA_test/lib/python3.9/site-packages (from nbconvert->jupyter->-r requirements.txt (line 1)) (2.0.4)\r\n",
      "Requirement already satisfied: jupyter-core>=4.7 in /Users/hhayat002/Documents/MLDS/UDA/test2/UDA_test/lib/python3.9/site-packages (from nbconvert->jupyter->-r requirements.txt (line 1)) (5.1.2)\r\n",
      "Requirement already satisfied: nbclient>=0.5.0 in /Users/hhayat002/Documents/MLDS/UDA/test2/UDA_test/lib/python3.9/site-packages (from nbconvert->jupyter->-r requirements.txt (line 1)) (0.7.2)\r\n",
      "Requirement already satisfied: pandocfilters>=1.4.1 in /Users/hhayat002/Documents/MLDS/UDA/test2/UDA_test/lib/python3.9/site-packages (from nbconvert->jupyter->-r requirements.txt (line 1)) (1.5.0)\r\n",
      "Requirement already satisfied: tinycss2 in /Users/hhayat002/Documents/MLDS/UDA/test2/UDA_test/lib/python3.9/site-packages (from nbconvert->jupyter->-r requirements.txt (line 1)) (1.2.1)\r\n",
      "Requirement already satisfied: markupsafe>=2.0 in /Users/hhayat002/Documents/MLDS/UDA/test2/UDA_test/lib/python3.9/site-packages (from nbconvert->jupyter->-r requirements.txt (line 1)) (2.1.1)\r\n",
      "Requirement already satisfied: defusedxml in /Users/hhayat002/Documents/MLDS/UDA/test2/UDA_test/lib/python3.9/site-packages (from nbconvert->jupyter->-r requirements.txt (line 1)) (0.7.1)\r\n",
      "Requirement already satisfied: importlib-metadata>=3.6 in /Users/hhayat002/Documents/MLDS/UDA/test2/UDA_test/lib/python3.9/site-packages (from nbconvert->jupyter->-r requirements.txt (line 1)) (6.0.0)\r\n",
      "Requirement already satisfied: jupyterlab-pygments in /Users/hhayat002/Documents/MLDS/UDA/test2/UDA_test/lib/python3.9/site-packages (from nbconvert->jupyter->-r requirements.txt (line 1)) (0.2.2)\r\n",
      "Requirement already satisfied: prometheus-client in /Users/hhayat002/Documents/MLDS/UDA/test2/UDA_test/lib/python3.9/site-packages (from notebook->jupyter->-r requirements.txt (line 1)) (0.15.0)\r\n",
      "Requirement already satisfied: nbclassic>=0.4.7 in /Users/hhayat002/Documents/MLDS/UDA/test2/UDA_test/lib/python3.9/site-packages (from notebook->jupyter->-r requirements.txt (line 1)) (0.4.8)\r\n",
      "Requirement already satisfied: terminado>=0.8.3 in /Users/hhayat002/Documents/MLDS/UDA/test2/UDA_test/lib/python3.9/site-packages (from notebook->jupyter->-r requirements.txt (line 1)) (0.17.1)\r\n",
      "Requirement already satisfied: argon2-cffi in /Users/hhayat002/Documents/MLDS/UDA/test2/UDA_test/lib/python3.9/site-packages (from notebook->jupyter->-r requirements.txt (line 1)) (21.3.0)\r\n",
      "Requirement already satisfied: ipython-genutils in /Users/hhayat002/Documents/MLDS/UDA/test2/UDA_test/lib/python3.9/site-packages (from notebook->jupyter->-r requirements.txt (line 1)) (0.2.0)\r\n",
      "Requirement already satisfied: Send2Trash>=1.8.0 in /Users/hhayat002/Documents/MLDS/UDA/test2/UDA_test/lib/python3.9/site-packages (from notebook->jupyter->-r requirements.txt (line 1)) (1.8.0)\r\n",
      "Collecting pytz>=2020.1\r\n",
      "  Using cached pytz-2022.7-py2.py3-none-any.whl (499 kB)\r\n",
      "Requirement already satisfied: qtpy>=2.0.1 in /Users/hhayat002/Documents/MLDS/UDA/test2/UDA_test/lib/python3.9/site-packages (from qtconsole->jupyter->-r requirements.txt (line 1)) (2.3.0)\r\n",
      "Requirement already satisfied: zipp>=0.5 in /Users/hhayat002/Documents/MLDS/UDA/test2/UDA_test/lib/python3.9/site-packages (from importlib-metadata>=3.6->nbconvert->jupyter->-r requirements.txt (line 1)) (3.11.0)\r\n",
      "Requirement already satisfied: pexpect>4.3 in /Users/hhayat002/Documents/MLDS/UDA/test2/UDA_test/lib/python3.9/site-packages (from ipython>=7.23.1->ipykernel->jupyter->-r requirements.txt (line 1)) (4.8.0)\r\n",
      "Requirement already satisfied: pickleshare in /Users/hhayat002/Documents/MLDS/UDA/test2/UDA_test/lib/python3.9/site-packages (from ipython>=7.23.1->ipykernel->jupyter->-r requirements.txt (line 1)) (0.7.5)\r\n",
      "Requirement already satisfied: decorator in /Users/hhayat002/Documents/MLDS/UDA/test2/UDA_test/lib/python3.9/site-packages (from ipython>=7.23.1->ipykernel->jupyter->-r requirements.txt (line 1)) (5.1.1)\r\n",
      "Requirement already satisfied: stack-data in /Users/hhayat002/Documents/MLDS/UDA/test2/UDA_test/lib/python3.9/site-packages (from ipython>=7.23.1->ipykernel->jupyter->-r requirements.txt (line 1)) (0.6.2)\r\n",
      "Requirement already satisfied: jedi>=0.16 in /Users/hhayat002/Documents/MLDS/UDA/test2/UDA_test/lib/python3.9/site-packages (from ipython>=7.23.1->ipykernel->jupyter->-r requirements.txt (line 1)) (0.18.2)\r\n",
      "Requirement already satisfied: backcall in /Users/hhayat002/Documents/MLDS/UDA/test2/UDA_test/lib/python3.9/site-packages (from ipython>=7.23.1->ipykernel->jupyter->-r requirements.txt (line 1)) (0.2.0)\r\n",
      "Requirement already satisfied: entrypoints in /Users/hhayat002/Documents/MLDS/UDA/test2/UDA_test/lib/python3.9/site-packages (from jupyter-client>=6.1.12->ipykernel->jupyter->-r requirements.txt (line 1)) (0.4)\r\n",
      "Requirement already satisfied: platformdirs>=2.5 in /Users/hhayat002/Documents/MLDS/UDA/test2/UDA_test/lib/python3.9/site-packages (from jupyter-core>=4.7->nbconvert->jupyter->-r requirements.txt (line 1)) (2.6.2)\r\n",
      "Requirement already satisfied: jupyter-server>=1.8 in /Users/hhayat002/Documents/MLDS/UDA/test2/UDA_test/lib/python3.9/site-packages (from nbclassic>=0.4.7->notebook->jupyter->-r requirements.txt (line 1)) (2.0.6)\r\n",
      "Requirement already satisfied: notebook-shim>=0.1.0 in /Users/hhayat002/Documents/MLDS/UDA/test2/UDA_test/lib/python3.9/site-packages (from nbclassic>=0.4.7->notebook->jupyter->-r requirements.txt (line 1)) (0.2.2)\r\n",
      "Requirement already satisfied: jsonschema>=2.6 in /Users/hhayat002/Documents/MLDS/UDA/test2/UDA_test/lib/python3.9/site-packages (from nbformat>=5.1->nbconvert->jupyter->-r requirements.txt (line 1)) (4.17.3)\r\n",
      "Requirement already satisfied: fastjsonschema in /Users/hhayat002/Documents/MLDS/UDA/test2/UDA_test/lib/python3.9/site-packages (from nbformat>=5.1->nbconvert->jupyter->-r requirements.txt (line 1)) (2.16.2)\r\n",
      "Requirement already satisfied: wcwidth in /Users/hhayat002/Documents/MLDS/UDA/test2/UDA_test/lib/python3.9/site-packages (from prompt-toolkit!=3.0.0,!=3.0.1,<3.1.0,>=2.0.0->jupyter-console->jupyter->-r requirements.txt (line 1)) (0.2.5)\r\n",
      "Requirement already satisfied: ptyprocess in /Users/hhayat002/Documents/MLDS/UDA/test2/UDA_test/lib/python3.9/site-packages (from terminado>=0.8.3->notebook->jupyter->-r requirements.txt (line 1)) (0.7.0)\r\n",
      "Collecting confection<1.0.0,>=0.0.1\r\n",
      "  Using cached confection-0.0.3-py3-none-any.whl (32 kB)\r\n",
      "Collecting blis<0.8.0,>=0.7.8\r\n",
      "  Using cached blis-0.7.9-cp39-cp39-macosx_10_9_x86_64.whl (6.1 MB)\r\n",
      "Collecting click<9.0.0,>=7.1.1\r\n",
      "  Using cached click-8.1.3-py3-none-any.whl (96 kB)\r\n",
      "Requirement already satisfied: argon2-cffi-bindings in /Users/hhayat002/Documents/MLDS/UDA/test2/UDA_test/lib/python3.9/site-packages (from argon2-cffi->notebook->jupyter->-r requirements.txt (line 1)) (21.2.0)\r\n",
      "Requirement already satisfied: webencodings in /Users/hhayat002/Documents/MLDS/UDA/test2/UDA_test/lib/python3.9/site-packages (from bleach->nbconvert->jupyter->-r requirements.txt (line 1)) (0.5.1)\r\n",
      "Requirement already satisfied: parso<0.9.0,>=0.8.0 in /Users/hhayat002/Documents/MLDS/UDA/test2/UDA_test/lib/python3.9/site-packages (from jedi>=0.16->ipython>=7.23.1->ipykernel->jupyter->-r requirements.txt (line 1)) (0.8.3)\r\n",
      "Requirement already satisfied: attrs>=17.4.0 in /Users/hhayat002/Documents/MLDS/UDA/test2/UDA_test/lib/python3.9/site-packages (from jsonschema>=2.6->nbformat>=5.1->nbconvert->jupyter->-r requirements.txt (line 1)) (22.2.0)\r\n",
      "Requirement already satisfied: pyrsistent!=0.17.0,!=0.17.1,!=0.17.2,>=0.14.0 in /Users/hhayat002/Documents/MLDS/UDA/test2/UDA_test/lib/python3.9/site-packages (from jsonschema>=2.6->nbformat>=5.1->nbconvert->jupyter->-r requirements.txt (line 1)) (0.19.3)\r\n",
      "Requirement already satisfied: jupyter-events>=0.4.0 in /Users/hhayat002/Documents/MLDS/UDA/test2/UDA_test/lib/python3.9/site-packages (from jupyter-server>=1.8->nbclassic>=0.4.7->notebook->jupyter->-r requirements.txt (line 1)) (0.5.0)\r\n",
      "Requirement already satisfied: websocket-client in /Users/hhayat002/Documents/MLDS/UDA/test2/UDA_test/lib/python3.9/site-packages (from jupyter-server>=1.8->nbclassic>=0.4.7->notebook->jupyter->-r requirements.txt (line 1)) (1.4.2)\r\n",
      "Requirement already satisfied: anyio<4,>=3.1.0 in /Users/hhayat002/Documents/MLDS/UDA/test2/UDA_test/lib/python3.9/site-packages (from jupyter-server>=1.8->nbclassic>=0.4.7->notebook->jupyter->-r requirements.txt (line 1)) (3.6.2)\r\n",
      "Requirement already satisfied: jupyter-server-terminals in /Users/hhayat002/Documents/MLDS/UDA/test2/UDA_test/lib/python3.9/site-packages (from jupyter-server>=1.8->nbclassic>=0.4.7->notebook->jupyter->-r requirements.txt (line 1)) (0.4.3)\r\n",
      "Requirement already satisfied: cffi>=1.0.1 in /Users/hhayat002/Documents/MLDS/UDA/test2/UDA_test/lib/python3.9/site-packages (from argon2-cffi-bindings->argon2-cffi->notebook->jupyter->-r requirements.txt (line 1)) (1.15.1)\r\n",
      "Requirement already satisfied: asttokens>=2.1.0 in /Users/hhayat002/Documents/MLDS/UDA/test2/UDA_test/lib/python3.9/site-packages (from stack-data->ipython>=7.23.1->ipykernel->jupyter->-r requirements.txt (line 1)) (2.2.1)\r\n",
      "Requirement already satisfied: executing>=1.2.0 in /Users/hhayat002/Documents/MLDS/UDA/test2/UDA_test/lib/python3.9/site-packages (from stack-data->ipython>=7.23.1->ipykernel->jupyter->-r requirements.txt (line 1)) (1.2.0)\r\n",
      "Requirement already satisfied: pure-eval in /Users/hhayat002/Documents/MLDS/UDA/test2/UDA_test/lib/python3.9/site-packages (from stack-data->ipython>=7.23.1->ipykernel->jupyter->-r requirements.txt (line 1)) (0.2.2)\r\n",
      "Requirement already satisfied: sniffio>=1.1 in /Users/hhayat002/Documents/MLDS/UDA/test2/UDA_test/lib/python3.9/site-packages (from anyio<4,>=3.1.0->jupyter-server>=1.8->nbclassic>=0.4.7->notebook->jupyter->-r requirements.txt (line 1)) (1.3.0)\r\n",
      "Requirement already satisfied: pycparser in /Users/hhayat002/Documents/MLDS/UDA/test2/UDA_test/lib/python3.9/site-packages (from cffi>=1.0.1->argon2-cffi-bindings->argon2-cffi->notebook->jupyter->-r requirements.txt (line 1)) (2.21)\r\n",
      "Requirement already satisfied: python-json-logger in /Users/hhayat002/Documents/MLDS/UDA/test2/UDA_test/lib/python3.9/site-packages (from jupyter-events>=0.4.0->jupyter-server>=1.8->nbclassic>=0.4.7->notebook->jupyter->-r requirements.txt (line 1)) (2.0.4)\r\n",
      "Requirement already satisfied: jsonpointer>1.13 in /Users/hhayat002/Documents/MLDS/UDA/test2/UDA_test/lib/python3.9/site-packages (from jsonschema>=2.6->nbformat>=5.1->nbconvert->jupyter->-r requirements.txt (line 1)) (2.3)\r\n",
      "Requirement already satisfied: rfc3986-validator>0.1.0 in /Users/hhayat002/Documents/MLDS/UDA/test2/UDA_test/lib/python3.9/site-packages (from jsonschema>=2.6->nbformat>=5.1->nbconvert->jupyter->-r requirements.txt (line 1)) (0.1.1)\r\n",
      "Requirement already satisfied: isoduration in /Users/hhayat002/Documents/MLDS/UDA/test2/UDA_test/lib/python3.9/site-packages (from jsonschema>=2.6->nbformat>=5.1->nbconvert->jupyter->-r requirements.txt (line 1)) (20.11.0)\r\n",
      "Requirement already satisfied: webcolors>=1.11 in /Users/hhayat002/Documents/MLDS/UDA/test2/UDA_test/lib/python3.9/site-packages (from jsonschema>=2.6->nbformat>=5.1->nbconvert->jupyter->-r requirements.txt (line 1)) (1.12)\r\n",
      "Requirement already satisfied: rfc3339-validator in /Users/hhayat002/Documents/MLDS/UDA/test2/UDA_test/lib/python3.9/site-packages (from jsonschema>=2.6->nbformat>=5.1->nbconvert->jupyter->-r requirements.txt (line 1)) (0.1.4)\r\n",
      "Requirement already satisfied: uri-template in /Users/hhayat002/Documents/MLDS/UDA/test2/UDA_test/lib/python3.9/site-packages (from jsonschema>=2.6->nbformat>=5.1->nbconvert->jupyter->-r requirements.txt (line 1)) (1.2.0)\r\n",
      "Requirement already satisfied: fqdn in /Users/hhayat002/Documents/MLDS/UDA/test2/UDA_test/lib/python3.9/site-packages (from jsonschema>=2.6->nbformat>=5.1->nbconvert->jupyter->-r requirements.txt (line 1)) (1.5.1)\r\n",
      "Requirement already satisfied: arrow>=0.15.0 in /Users/hhayat002/Documents/MLDS/UDA/test2/UDA_test/lib/python3.9/site-packages (from isoduration->jsonschema>=2.6->nbformat>=5.1->nbconvert->jupyter->-r requirements.txt (line 1)) (1.2.3)\r\n",
      "Installing collected packages: wasabi, pytz, pynvx, nvidia-ml-py3, cymem, brotli, argparse, websockets, urllib3, typing-extensions, typing, tqdm, spacy-loggers, spacy-legacy, smart-open, pyparsing, pycryptodomex, protobuf, Pillow, numpy, networkx, mutagen, murmurhash, langcodes, kiwisolver, future, fonttools, fastprogress, cycler, click, charset-normalizer, certifi, catalogue, yt-dlp, typer, torch, tifffile, tensorboardX, srsly, Shapely, scipy, requests, PyWavelets, pydantic, preshed, pandas, opencv-python, numexpr, imageio, ffmpeg-python, contourpy, bottleneck, blis, torchvision, scikit-image, pathy, matplotlib, confection, thinc, imgaug, spacy, fastai\r\n",
      "Successfully installed Pillow-9.4.0 PyWavelets-1.4.1 Shapely-2.0.0 argparse-1.4.0 blis-0.7.9 bottleneck-1.3.5 brotli-1.0.9 catalogue-2.0.8 certifi-2022.12.7 charset-normalizer-2.1.1 click-8.1.3 confection-0.0.3 contourpy-1.0.6 cycler-0.11.0 cymem-2.0.7 fastai-1.0.51 fastprogress-1.0.3 ffmpeg-python-0.2.0 fonttools-4.38.0 future-0.18.2 imageio-2.23.0 imgaug-0.4.0 kiwisolver-1.4.4 langcodes-3.3.0 matplotlib-3.6.2 murmurhash-1.0.9 mutagen-1.46.0 networkx-2.8.8 numexpr-2.8.4 numpy-1.24.1 nvidia-ml-py3-7.352.0 opencv-python-4.7.0.68 pandas-1.5.2 pathy-0.10.1 preshed-3.0.8 protobuf-3.20.1 pycryptodomex-3.16.0 pydantic-1.10.4 pynvx-1.0.0 pyparsing-3.0.9 pytz-2022.7 requests-2.28.1 scikit-image-0.19.3 scipy-1.10.0 smart-open-6.3.0 spacy-3.4.4 spacy-legacy-3.0.11 spacy-loggers-1.0.4 srsly-2.4.5 tensorboardX-2.5.1 thinc-8.1.6 tifffile-2022.10.10 torch-1.13.1 torchvision-0.14.1 tqdm-4.64.1 typer-0.7.0 typing-3.7.4.3 typing-extensions-4.4.0 urllib3-1.26.13 wasabi-0.10.1 websockets-10.4 yt-dlp-2023.1.2\r\n"
     ]
    }
   ],
   "source": [
    "# Install all the required packages including DeOldify\n",
    "!pip install -r requirements.txt\n"
   ],
   "metadata": {
    "collapsed": false,
    "pycharm": {
     "name": "#%%\n"
    }
   }
  },
  {
   "cell_type": "markdown",
   "source": [
    "## Image preparation\n",
    "The first step is to prepare our test images. These are a set of personal images in colour. We therefore need to convert them to black and white images."
   ],
   "metadata": {
    "collapsed": false,
    "pycharm": {
     "name": "#%% md\n"
    }
   }
  },
  {
   "cell_type": "code",
   "execution_count": 3,
   "outputs": [],
   "source": [
    "# Import necessary packages\n",
    "from os import listdir, mkdir\n",
    "from os.path import join, basename\n",
    "from PIL import Image\n",
    "import numpy as np\n",
    "import matplotlib.pyplot as plt\n",
    "from pathlib import Path"
   ],
   "metadata": {
    "collapsed": false,
    "pycharm": {
     "name": "#%%\n"
    }
   }
  },
  {
   "cell_type": "markdown",
   "source": [
    "The image data is stored in a folder called 'test_images' in the same directory as this notebook.\n",
    "\n",
    "The results of this step are store in a folder called 'test_images_bw'"
   ],
   "metadata": {
    "collapsed": false,
    "pycharm": {
     "name": "#%% md\n"
    }
   }
  },
  {
   "cell_type": "code",
   "execution_count": null,
   "outputs": [],
   "source": [
    "# Get path to all images\n",
    "images = [join('test_images/', f) for f in listdir('test_images/') if basename(f).split('.')[1] in ['jpeg', 'jpg', 'png']]\n",
    "\n",
    "# Create folder to store results if one does not exist\n",
    "try:\n",
    "\tmkdir('test_images_bw')\n",
    "except FileExistsError:\n",
    "\tpass\n",
    "\n",
    "# Convert to greyscale\n",
    "for file in images:\n",
    "\timage_name = basename(file)\n",
    "\tnew_name = image_name.split('.')[0]+'_bw.'+image_name.split('.')[1]\n",
    "\timg = Image.open(file)\n",
    "\timg = img.convert('L')\n",
    "\timg.save(join('test_images_bw/',new_name))"
   ],
   "metadata": {
    "collapsed": false,
    "pycharm": {
     "name": "#%%\n"
    }
   }
  },
  {
   "cell_type": "markdown",
   "source": [
    "## Denoising old images\n",
    "Some of the old photos that have been digitised need to be cleaned.\n",
    "The following blocks of code detail how these images have been processed.\n",
    "\n",
    "These photos are stored in a folder called 'old_images' in the same directory as this notebook."
   ],
   "metadata": {
    "collapsed": false,
    "pycharm": {
     "name": "#%% md\n"
    }
   }
  },
  {
   "cell_type": "code",
   "execution_count": null,
   "outputs": [],
   "source": [
    "# Import tools used for cleaning\n",
    "from skimage import io\n",
    "from skimage.filters.rank import mean, median, minimum, maximum\n",
    "from skimage.exposure import adjust_gamma, adjust_log, adjust_sigmoid"
   ],
   "metadata": {
    "collapsed": false,
    "pycharm": {
     "name": "#%%\n"
    }
   }
  },
  {
   "cell_type": "markdown",
   "source": [
    "### Image 1\n",
    "The first image is that of my grandfather.  This image looks desaturated.\n",
    "The results from the code blocks below are included in Figure 5 of the pdf."
   ],
   "metadata": {
    "collapsed": false,
    "pycharm": {
     "name": "#%% md\n"
    }
   }
  },
  {
   "cell_type": "code",
   "execution_count": null,
   "outputs": [],
   "source": [
    "# Original image\n",
    "img = io.imread('old_images/IMG-20221229-WA0014.jpg', as_gray=True)\n",
    "io.imshow(img)"
   ],
   "metadata": {
    "collapsed": false,
    "pycharm": {
     "name": "#%%\n"
    }
   }
  },
  {
   "cell_type": "code",
   "execution_count": null,
   "outputs": [],
   "source": [
    "# Try max filter\n",
    "max = maximum(img, selem=np.ones((3,3)))\n",
    "io.imshow(max)"
   ],
   "metadata": {
    "collapsed": false,
    "pycharm": {
     "name": "#%%\n"
    }
   }
  },
  {
   "cell_type": "code",
   "execution_count": null,
   "outputs": [],
   "source": [
    "# Try min filter\n",
    "min = minimum(img, selem=np.ones((7,7)))\n",
    "io.imshow(min)"
   ],
   "metadata": {
    "collapsed": false,
    "pycharm": {
     "name": "#%%\n"
    }
   }
  },
  {
   "cell_type": "code",
   "execution_count": null,
   "outputs": [],
   "source": [
    "# Try mean filter\n",
    "me = mean(img, selem=np.ones((5,5)))\n",
    "io.imshow(me)"
   ],
   "metadata": {
    "collapsed": false,
    "pycharm": {
     "name": "#%%\n"
    }
   }
  },
  {
   "cell_type": "code",
   "execution_count": null,
   "outputs": [],
   "source": [
    "# Try median filter\n",
    "med = median(img, selem=np.ones((5,5)))\n",
    "io.imshow(med)"
   ],
   "metadata": {
    "collapsed": false,
    "pycharm": {
     "name": "#%%\n"
    }
   }
  },
  {
   "cell_type": "code",
   "execution_count": null,
   "outputs": [],
   "source": [
    "# Try gamma correction\n",
    "gm = adjust_gamma(img,2)\n",
    "io.imshow(gm)"
   ],
   "metadata": {
    "collapsed": false,
    "pycharm": {
     "name": "#%%\n"
    }
   }
  },
  {
   "cell_type": "code",
   "execution_count": null,
   "outputs": [],
   "source": [
    "# Try log adjustment\n",
    "lg = adjust_log(img,1)\n",
    "io.imshow(lg)"
   ],
   "metadata": {
    "collapsed": false,
    "pycharm": {
     "name": "#%%\n"
    }
   }
  },
  {
   "cell_type": "markdown",
   "source": [
    "The best results were from the gamma correction, so we will save this version alongside the original."
   ],
   "metadata": {
    "collapsed": false,
    "pycharm": {
     "name": "#%% md\n"
    }
   }
  },
  {
   "cell_type": "code",
   "execution_count": null,
   "outputs": [],
   "source": [
    "gm = (gm*255).astype('uint8')\n",
    "io.imsave('old_images/IMG-20221229-WA0014_gamma.jpg', gm)"
   ],
   "metadata": {
    "collapsed": false,
    "pycharm": {
     "name": "#%%\n"
    }
   }
  },
  {
   "cell_type": "markdown",
   "source": [
    "### Image 2\n",
    "The second image is that of my grandparents. This was a scan of a canvas print and thus contains white spekcs which we will try to remove.\n",
    "The results from the code blocks below are included in Figure 4 of the pdf.\n"
   ],
   "metadata": {
    "collapsed": false
   }
  },
  {
   "cell_type": "code",
   "execution_count": null,
   "outputs": [],
   "source": [
    "# Original\n",
    "img2 = io.imread('old_images/IMG-20230101-WA0018.jpg', as_gray=True)\n",
    "io.imshow(img2)"
   ],
   "metadata": {
    "collapsed": false,
    "pycharm": {
     "name": "#%%\n"
    }
   }
  },
  {
   "cell_type": "code",
   "execution_count": null,
   "outputs": [],
   "source": [
    "# Try mean filter\n",
    "mean2 = mean(img2, selem=np.ones((3,3)))\n",
    "io.imshow(mean2)"
   ],
   "metadata": {
    "collapsed": false,
    "pycharm": {
     "name": "#%%\n"
    }
   }
  },
  {
   "cell_type": "code",
   "execution_count": null,
   "outputs": [],
   "source": [
    "# Try median filter\n",
    "median2 = median(img2, selem=np.ones((3,3)))\n",
    "io.imshow(median2)"
   ],
   "metadata": {
    "collapsed": false,
    "pycharm": {
     "name": "#%%\n"
    }
   }
  },
  {
   "cell_type": "code",
   "execution_count": null,
   "outputs": [],
   "source": [
    "# Try min filter\n",
    "min2 = minimum(img2, selem=np.ones((3,3)))\n",
    "io.imshow(min2)"
   ],
   "metadata": {
    "collapsed": false,
    "pycharm": {
     "name": "#%%\n"
    }
   }
  },
  {
   "cell_type": "code",
   "execution_count": null,
   "outputs": [],
   "source": [
    "# Minimum and mean filter had best results\n",
    "# We will save these alongside the original\n",
    "\n",
    "mean2=mean2.astype('uint8')\n",
    "min2=min2.astype('uint8')\n",
    "io.imsave('old_images/IMG-20230101-WA0018_mean.jpg', mean2)\n",
    "io.imsave('old_images/IMG-20230101-WA0018_min.jpg', min2)"
   ],
   "metadata": {
    "collapsed": false,
    "pycharm": {
     "name": "#%%\n"
    }
   }
  },
  {
   "cell_type": "markdown",
   "source": [
    "## Colorization model\n",
    "We will start by applying the colorization repository by Zhang et al. to our images."
   ],
   "metadata": {
    "collapsed": false,
    "pycharm": {
     "name": "#%% md\n"
    }
   }
  },
  {
   "cell_type": "code",
   "execution_count": null,
   "outputs": [],
   "source": [
    "from colorization.colorizers import *"
   ],
   "metadata": {
    "collapsed": false,
    "pycharm": {
     "name": "#%%\n"
    }
   }
  },
  {
   "cell_type": "code",
   "execution_count": null,
   "outputs": [],
   "source": [
    "# Initialise colourisers\n",
    "use_gpu = False\n",
    "# load colorizers\n",
    "colorizer_eccv16 = eccv16(pretrained=True).eval()\n",
    "colorizer_siggraph17 = siggraph17(pretrained=True).eval()\n",
    "if use_gpu:\n",
    "\tcolorizer_eccv16.cuda()\n",
    "\tcolorizer_siggraph17.cuda()"
   ],
   "metadata": {
    "collapsed": false,
    "pycharm": {
     "name": "#%%\n"
    }
   }
  },
  {
   "cell_type": "code",
   "execution_count": null,
   "outputs": [],
   "source": [
    "# Set up folder to store results\n",
    "try:\n",
    "\tmkdir('out_colorizer/')\n",
    "except FileExistsError:\n",
    "\tpass"
   ],
   "metadata": {
    "collapsed": false,
    "pycharm": {
     "name": "#%%\n"
    }
   }
  },
  {
   "cell_type": "code",
   "execution_count": null,
   "outputs": [],
   "source": [
    "# All the synthetic greyscale images:\n",
    "images = [join('test_images_bw/', f) for f in listdir('test_images_bw/') if basename(f).split('.')[1] in ['jpeg', 'jpg', 'png']]\n",
    "\n",
    "# Cycle through black and white images\n",
    "for file in images:\n",
    "\timg = load_img(file)\n",
    "\t#load original colour for comparison\n",
    "\torg = load_img(join('test_images/', basename(file).replace('_bw','')))\n",
    "\n",
    "\t# default size to process images is 256x256\n",
    "\t# grab L channel in both original (\"orig\") and resized (\"rs\") resolutions\n",
    "\t# Note I tried a number of resolutions but 256x256 seemed to give the best results\n",
    "\t(tens_l_orig, tens_l_rs) = preprocess_img(img, HW=(256,256))\n",
    "\tif use_gpu:\n",
    "\t\ttens_l_rs = tens_l_rs.cuda()\n",
    "\n",
    "\t# colorizer outputs 256x256 ab map\n",
    "\t# resize and concatenate to original L channel\n",
    "\timg_bw = postprocess_tens(tens_l_orig, torch.cat((0*tens_l_orig,0*tens_l_orig),dim=1))\n",
    "\tout_img_eccv16 = postprocess_tens(tens_l_orig, colorizer_eccv16(tens_l_rs).cpu())\n",
    "\tout_img_siggraph17 = postprocess_tens(tens_l_orig, colorizer_siggraph17(tens_l_rs).cpu())\n",
    "\n",
    "\t# Names of output files\n",
    "\tsave_name_eccv16 = 'out_colorizer/eccv16_' + basename(file)\n",
    "\tsave_name_sig17 = 'out_colorizer/sig17_' + basename(file)\n",
    "\n",
    "\t# Save outputs which are used in Figure 6 of the pdf\n",
    "\tplt.imsave(save_name_eccv16, out_img_eccv16)\n",
    "\tplt.imsave(save_name_sig17, out_img_siggraph17)\n",
    "\n",
    "\t# Plot results to allow comparison\n",
    "\tplt.figure(figsize=(12,8))\n",
    "\tplt.subplot(2,2,1)\n",
    "\tplt.imshow(org)\n",
    "\tplt.title('Original')\n",
    "\tplt.axis('off')\n",
    "\n",
    "\tplt.subplot(2,2,2)\n",
    "\tplt.imshow(img_bw)\n",
    "\tplt.title('Input')\n",
    "\tplt.axis('off')\n",
    "\n",
    "\tplt.subplot(2,2,3)\n",
    "\tplt.imshow(out_img_eccv16)\n",
    "\tplt.title('Output (ECCV 16)')\n",
    "\tplt.axis('off')\n",
    "\n",
    "\tplt.subplot(2,2,4)\n",
    "\tplt.imshow(out_img_siggraph17)\n",
    "\tplt.title('Output (SIGGRAPH 17)')\n",
    "\tplt.axis('off')\n",
    "\n",
    "\tplt.show()\n"
   ],
   "metadata": {
    "collapsed": false,
    "pycharm": {
     "name": "#%%\n"
    }
   }
  },
  {
   "cell_type": "markdown",
   "source": [
    "The results of the code block above form the second and third columns of Figure 6 in the pdf."
   ],
   "metadata": {
    "collapsed": false,
    "pycharm": {
     "name": "#%% md\n"
    }
   }
  },
  {
   "cell_type": "markdown",
   "source": [
    "We will now move on to applying the colorizer to the old photos.\n",
    "This was performed for completeness, however to keep the pdf report concise, we have only focussed on the use of the DeOldify model on old photos."
   ],
   "metadata": {
    "collapsed": false,
    "pycharm": {
     "name": "#%% md\n"
    }
   }
  },
  {
   "cell_type": "code",
   "execution_count": null,
   "outputs": [],
   "source": [
    "images_old = [join('old_images/', f) for f in listdir('old_images/') if basename(f).split('.')[1] in ['jpeg', 'jpg', 'png']]\n",
    "\n",
    "# Cycle through old black and white images as before\n",
    "for file in images_old:\n",
    "\timg = load_img(file)\n",
    "\n",
    "\t# default size to process images is 256x256\n",
    "\t# grab L channel in both original (\"orig\") and resized (\"rs\") resolutions\n",
    "\t(tens_l_orig, tens_l_rs) = preprocess_img(img, HW=(256,256))\n",
    "\tif use_gpu:\n",
    "\t\ttens_l_rs = tens_l_rs.cuda()\n",
    "\n",
    "\t# colorizer outputs 256x256 ab map\n",
    "\t# resize and concatenate to original L channel\n",
    "\timg_bw = postprocess_tens(tens_l_orig, torch.cat((0*tens_l_orig,0*tens_l_orig),dim=1))\n",
    "\tout_img_eccv16 = postprocess_tens(tens_l_orig, colorizer_eccv16(tens_l_rs).cpu())\n",
    "\tout_img_siggraph17 = postprocess_tens(tens_l_orig, colorizer_siggraph17(tens_l_rs).cpu())\n",
    "\n",
    "\tsave_name_eccv16 = 'out_colorizer/eccv16_' + basename(file)\n",
    "\tsave_name_sig17 = 'out_colorizer/sig17_' + basename(file)\n",
    "\n",
    "\tplt.imsave(save_name_eccv16, out_img_eccv16)\n",
    "\tplt.imsave(save_name_sig17, out_img_siggraph17)\n",
    "\n",
    "\t# Plot results to allow comparison\n",
    "\tplt.figure(figsize=(12,8))\n",
    "\tplt.subplot(2,2,1)\n",
    "\tplt.imshow(img)\n",
    "\tplt.title('Original')\n",
    "\tplt.axis('off')\n",
    "\n",
    "\tplt.subplot(2,2,2)\n",
    "\tplt.imshow(img_bw)\n",
    "\tplt.title('Input')\n",
    "\tplt.axis('off')\n",
    "\n",
    "\tplt.subplot(2,2,3)\n",
    "\tplt.imshow(out_img_eccv16)\n",
    "\tplt.title('Output (ECCV 16)')\n",
    "\tplt.axis('off')\n",
    "\n",
    "\tplt.subplot(2,2,4)\n",
    "\tplt.imshow(out_img_siggraph17)\n",
    "\tplt.title('Output (SIGGRAPH 17)')\n",
    "\tplt.axis('off')\n",
    "\n",
    "\tplt.show()"
   ],
   "metadata": {
    "collapsed": false,
    "pycharm": {
     "name": "#%%\n"
    }
   }
  },
  {
   "cell_type": "markdown",
   "source": [
    "## DeOldify\n",
    "We will now move on to the DeOldify models\n"
   ],
   "metadata": {
    "collapsed": false,
    "pycharm": {
     "name": "#%% md\n"
    }
   }
  },
  {
   "cell_type": "code",
   "execution_count": 4,
   "outputs": [
    {
     "data": {
      "text/plain": "<DeviceId.CPU: 99>"
     },
     "execution_count": 4,
     "metadata": {},
     "output_type": "execute_result"
    }
   ],
   "source": [
    "# Set up divice\n",
    "from deoldify import device\n",
    "from deoldify.device_id import DeviceId\n",
    "# choices:  CPU, GPU0...GPU7\n",
    "# Again, I have only tested using a CPU\n",
    "device.set(device=DeviceId.CPU)"
   ],
   "metadata": {
    "collapsed": false,
    "pycharm": {
     "name": "#%%\n"
    }
   }
  },
  {
   "cell_type": "code",
   "execution_count": 6,
   "outputs": [
    {
     "ename": "IsADirectoryError",
     "evalue": "[Errno 21] Is a directory: '/Users/hhayat002/Documents/UDA_test/UDA_Final_project_Hayat'",
     "output_type": "error",
     "traceback": [
      "\u001B[0;31m---------------------------------------------------------------------------\u001B[0m",
      "\u001B[0;31mIsADirectoryError\u001B[0m                         Traceback (most recent call last)",
      "Cell \u001B[0;32mIn[6], line 2\u001B[0m\n\u001B[1;32m      1\u001B[0m \u001B[38;5;66;03m# Import functions\u001B[39;00m\n\u001B[0;32m----> 2\u001B[0m \u001B[38;5;28;01mfrom\u001B[39;00m \u001B[38;5;21;01mdeoldify\u001B[39;00m\u001B[38;5;21;01m.\u001B[39;00m\u001B[38;5;21;01mvisualize\u001B[39;00m \u001B[38;5;28;01mimport\u001B[39;00m \u001B[38;5;241m*\u001B[39m\n\u001B[1;32m      3\u001B[0m \u001B[38;5;28;01mfrom\u001B[39;00m \u001B[38;5;21;01mdeoldify\u001B[39;00m\u001B[38;5;21;01m.\u001B[39;00m\u001B[38;5;21;01mvisualize\u001B[39;00m \u001B[38;5;28;01mimport\u001B[39;00m get_image_colorizer\n\u001B[1;32m      4\u001B[0m plt\u001B[38;5;241m.\u001B[39mstyle\u001B[38;5;241m.\u001B[39muse(\u001B[38;5;124m'\u001B[39m\u001B[38;5;124mdark_background\u001B[39m\u001B[38;5;124m'\u001B[39m)\n",
      "File \u001B[0;32m~/Documents/UDA_test/UDA_Final_project_Hayat/deoldify/visualize.py:8\u001B[0m\n\u001B[1;32m      6\u001B[0m \u001B[38;5;28;01mfrom\u001B[39;00m \u001B[38;5;21;01mPIL\u001B[39;00m \u001B[38;5;28;01mimport\u001B[39;00m Image\n\u001B[1;32m      7\u001B[0m \u001B[38;5;28;01mimport\u001B[39;00m \u001B[38;5;21;01mffmpeg\u001B[39;00m\n\u001B[0;32m----> 8\u001B[0m \u001B[38;5;28;01mimport\u001B[39;00m \u001B[38;5;21;01myt_dlp\u001B[39;00m \u001B[38;5;28;01mas\u001B[39;00m \u001B[38;5;21;01myoutube_dl\u001B[39;00m\n\u001B[1;32m      9\u001B[0m \u001B[38;5;28;01mimport\u001B[39;00m \u001B[38;5;21;01mgc\u001B[39;00m\n\u001B[1;32m     10\u001B[0m \u001B[38;5;28;01mimport\u001B[39;00m \u001B[38;5;21;01mrequests\u001B[39;00m\n",
      "File \u001B[0;32m~/Documents/MLDS/UDA/test2/UDA_test/lib/python3.9/site-packages/yt_dlp/__init__.py:22\u001B[0m\n\u001B[1;32m     20\u001B[0m \u001B[38;5;28;01mfrom\u001B[39;00m \u001B[38;5;21;01m.\u001B[39;00m\u001B[38;5;21;01mextractor\u001B[39;00m \u001B[38;5;28;01mimport\u001B[39;00m list_extractor_classes\n\u001B[1;32m     21\u001B[0m \u001B[38;5;28;01mfrom\u001B[39;00m \u001B[38;5;21;01m.\u001B[39;00m\u001B[38;5;21;01mextractor\u001B[39;00m\u001B[38;5;21;01m.\u001B[39;00m\u001B[38;5;21;01madobepass\u001B[39;00m \u001B[38;5;28;01mimport\u001B[39;00m MSO_INFO\n\u001B[0;32m---> 22\u001B[0m \u001B[38;5;28;01mfrom\u001B[39;00m \u001B[38;5;21;01m.\u001B[39;00m\u001B[38;5;21;01moptions\u001B[39;00m \u001B[38;5;28;01mimport\u001B[39;00m parseOpts\n\u001B[1;32m     23\u001B[0m \u001B[38;5;28;01mfrom\u001B[39;00m \u001B[38;5;21;01m.\u001B[39;00m\u001B[38;5;21;01mpostprocessor\u001B[39;00m \u001B[38;5;28;01mimport\u001B[39;00m (\n\u001B[1;32m     24\u001B[0m     FFmpegExtractAudioPP,\n\u001B[1;32m     25\u001B[0m     FFmpegMergerPP,\n\u001B[0;32m   (...)\u001B[0m\n\u001B[1;32m     32\u001B[0m     MetadataParserPP,\n\u001B[1;32m     33\u001B[0m )\n\u001B[1;32m     34\u001B[0m \u001B[38;5;28;01mfrom\u001B[39;00m \u001B[38;5;21;01m.\u001B[39;00m\u001B[38;5;21;01mupdate\u001B[39;00m \u001B[38;5;28;01mimport\u001B[39;00m Updater\n",
      "File \u001B[0;32m~/Documents/MLDS/UDA/test2/UDA_test/lib/python3.9/site-packages/yt_dlp/options.py:14\u001B[0m\n\u001B[1;32m     12\u001B[0m \u001B[38;5;28;01mfrom\u001B[39;00m \u001B[38;5;21;01m.\u001B[39;00m\u001B[38;5;21;01mcookies\u001B[39;00m \u001B[38;5;28;01mimport\u001B[39;00m SUPPORTED_BROWSERS, SUPPORTED_KEYRINGS\n\u001B[1;32m     13\u001B[0m \u001B[38;5;28;01mfrom\u001B[39;00m \u001B[38;5;21;01m.\u001B[39;00m\u001B[38;5;21;01mdownloader\u001B[39;00m\u001B[38;5;21;01m.\u001B[39;00m\u001B[38;5;21;01mexternal\u001B[39;00m \u001B[38;5;28;01mimport\u001B[39;00m list_external_downloaders\n\u001B[0;32m---> 14\u001B[0m \u001B[38;5;28;01mfrom\u001B[39;00m \u001B[38;5;21;01m.\u001B[39;00m\u001B[38;5;21;01mpostprocessor\u001B[39;00m \u001B[38;5;28;01mimport\u001B[39;00m (\n\u001B[1;32m     15\u001B[0m     FFmpegExtractAudioPP,\n\u001B[1;32m     16\u001B[0m     FFmpegMergerPP,\n\u001B[1;32m     17\u001B[0m     FFmpegSubtitlesConvertorPP,\n\u001B[1;32m     18\u001B[0m     FFmpegThumbnailsConvertorPP,\n\u001B[1;32m     19\u001B[0m     FFmpegVideoRemuxerPP,\n\u001B[1;32m     20\u001B[0m     SponsorBlockPP,\n\u001B[1;32m     21\u001B[0m )\n\u001B[1;32m     22\u001B[0m \u001B[38;5;28;01mfrom\u001B[39;00m \u001B[38;5;21;01m.\u001B[39;00m\u001B[38;5;21;01mpostprocessor\u001B[39;00m\u001B[38;5;21;01m.\u001B[39;00m\u001B[38;5;21;01mmodify_chapters\u001B[39;00m \u001B[38;5;28;01mimport\u001B[39;00m DEFAULT_SPONSORBLOCK_CHAPTER_TITLE\n\u001B[1;32m     23\u001B[0m \u001B[38;5;28;01mfrom\u001B[39;00m \u001B[38;5;21;01m.\u001B[39;00m\u001B[38;5;21;01mupdate\u001B[39;00m \u001B[38;5;28;01mimport\u001B[39;00m detect_variant, is_non_updateable\n",
      "File \u001B[0;32m~/Documents/MLDS/UDA/test2/UDA_test/lib/python3.9/site-packages/yt_dlp/postprocessor/__init__.py:38\u001B[0m\n\u001B[1;32m     35\u001B[0m \u001B[38;5;28;01mfrom\u001B[39;00m \u001B[38;5;21;01m.\u001B[39;00m\u001B[38;5;21;01mxattrpp\u001B[39;00m \u001B[38;5;28;01mimport\u001B[39;00m XAttrMetadataPP\n\u001B[1;32m     36\u001B[0m \u001B[38;5;28;01mfrom\u001B[39;00m \u001B[38;5;21;01m.\u001B[39;00m\u001B[38;5;21;01m.\u001B[39;00m\u001B[38;5;21;01mplugins\u001B[39;00m \u001B[38;5;28;01mimport\u001B[39;00m load_plugins\n\u001B[0;32m---> 38\u001B[0m _PLUGIN_CLASSES \u001B[38;5;241m=\u001B[39m \u001B[43mload_plugins\u001B[49m\u001B[43m(\u001B[49m\u001B[38;5;124;43m'\u001B[39;49m\u001B[38;5;124;43mpostprocessor\u001B[39;49m\u001B[38;5;124;43m'\u001B[39;49m\u001B[43m,\u001B[49m\u001B[43m \u001B[49m\u001B[38;5;124;43m'\u001B[39;49m\u001B[38;5;124;43mPP\u001B[39;49m\u001B[38;5;124;43m'\u001B[39;49m\u001B[43m)\u001B[49m\n\u001B[1;32m     41\u001B[0m \u001B[38;5;28;01mdef\u001B[39;00m \u001B[38;5;21mget_postprocessor\u001B[39m(key):\n\u001B[1;32m     42\u001B[0m     \u001B[38;5;28;01mreturn\u001B[39;00m \u001B[38;5;28mglobals\u001B[39m()[key \u001B[38;5;241m+\u001B[39m \u001B[38;5;124m'\u001B[39m\u001B[38;5;124mPP\u001B[39m\u001B[38;5;124m'\u001B[39m]\n",
      "File \u001B[0;32m~/Documents/MLDS/UDA/test2/UDA_test/lib/python3.9/site-packages/yt_dlp/plugins.py:136\u001B[0m, in \u001B[0;36mload_plugins\u001B[0;34m(name, suffix)\u001B[0m\n\u001B[1;32m    133\u001B[0m \u001B[38;5;28;01mdef\u001B[39;00m \u001B[38;5;21mload_plugins\u001B[39m(name, suffix):\n\u001B[1;32m    134\u001B[0m     classes \u001B[38;5;241m=\u001B[39m {}\n\u001B[0;32m--> 136\u001B[0m     \u001B[38;5;28;01mfor\u001B[39;00m finder, module_name, _ \u001B[38;5;129;01min\u001B[39;00m iter_modules(name):\n\u001B[1;32m    137\u001B[0m         \u001B[38;5;28;01mif\u001B[39;00m \u001B[38;5;28many\u001B[39m(x\u001B[38;5;241m.\u001B[39mstartswith(\u001B[38;5;124m'\u001B[39m\u001B[38;5;124m_\u001B[39m\u001B[38;5;124m'\u001B[39m) \u001B[38;5;28;01mfor\u001B[39;00m x \u001B[38;5;129;01min\u001B[39;00m module_name\u001B[38;5;241m.\u001B[39msplit(\u001B[38;5;124m'\u001B[39m\u001B[38;5;124m.\u001B[39m\u001B[38;5;124m'\u001B[39m)):\n\u001B[1;32m    138\u001B[0m             \u001B[38;5;28;01mcontinue\u001B[39;00m\n",
      "File \u001B[0;32m~/Documents/MLDS/UDA/test2/UDA_test/lib/python3.9/site-packages/yt_dlp/plugins.py:120\u001B[0m, in \u001B[0;36miter_modules\u001B[0;34m(subpackage)\u001B[0m\n\u001B[1;32m    118\u001B[0m fullname \u001B[38;5;241m=\u001B[39m \u001B[38;5;124mf\u001B[39m\u001B[38;5;124m'\u001B[39m\u001B[38;5;132;01m{\u001B[39;00mPACKAGE_NAME\u001B[38;5;132;01m}\u001B[39;00m\u001B[38;5;124m.\u001B[39m\u001B[38;5;132;01m{\u001B[39;00msubpackage\u001B[38;5;132;01m}\u001B[39;00m\u001B[38;5;124m'\u001B[39m\n\u001B[1;32m    119\u001B[0m \u001B[38;5;28;01mwith\u001B[39;00m contextlib\u001B[38;5;241m.\u001B[39msuppress(\u001B[38;5;167;01mModuleNotFoundError\u001B[39;00m):\n\u001B[0;32m--> 120\u001B[0m     pkg \u001B[38;5;241m=\u001B[39m \u001B[43mimportlib\u001B[49m\u001B[38;5;241;43m.\u001B[39;49m\u001B[43mimport_module\u001B[49m\u001B[43m(\u001B[49m\u001B[43mfullname\u001B[49m\u001B[43m)\u001B[49m\n\u001B[1;32m    121\u001B[0m     \u001B[38;5;28;01myield from\u001B[39;00m pkgutil\u001B[38;5;241m.\u001B[39miter_modules(path\u001B[38;5;241m=\u001B[39mpkg\u001B[38;5;241m.\u001B[39m__path__, prefix\u001B[38;5;241m=\u001B[39m\u001B[38;5;124mf\u001B[39m\u001B[38;5;124m'\u001B[39m\u001B[38;5;132;01m{\u001B[39;00mfullname\u001B[38;5;132;01m}\u001B[39;00m\u001B[38;5;124m.\u001B[39m\u001B[38;5;124m'\u001B[39m)\n",
      "File \u001B[0;32m/usr/local/Cellar/python@3.9/3.9.2_4/Frameworks/Python.framework/Versions/3.9/lib/python3.9/importlib/__init__.py:127\u001B[0m, in \u001B[0;36mimport_module\u001B[0;34m(name, package)\u001B[0m\n\u001B[1;32m    125\u001B[0m             \u001B[38;5;28;01mbreak\u001B[39;00m\n\u001B[1;32m    126\u001B[0m         level \u001B[38;5;241m+\u001B[39m\u001B[38;5;241m=\u001B[39m \u001B[38;5;241m1\u001B[39m\n\u001B[0;32m--> 127\u001B[0m \u001B[38;5;28;01mreturn\u001B[39;00m \u001B[43m_bootstrap\u001B[49m\u001B[38;5;241;43m.\u001B[39;49m\u001B[43m_gcd_import\u001B[49m\u001B[43m(\u001B[49m\u001B[43mname\u001B[49m\u001B[43m[\u001B[49m\u001B[43mlevel\u001B[49m\u001B[43m:\u001B[49m\u001B[43m]\u001B[49m\u001B[43m,\u001B[49m\u001B[43m \u001B[49m\u001B[43mpackage\u001B[49m\u001B[43m,\u001B[49m\u001B[43m \u001B[49m\u001B[43mlevel\u001B[49m\u001B[43m)\u001B[49m\n",
      "File \u001B[0;32m<frozen importlib._bootstrap>:1030\u001B[0m, in \u001B[0;36m_gcd_import\u001B[0;34m(name, package, level)\u001B[0m\n",
      "File \u001B[0;32m<frozen importlib._bootstrap>:1007\u001B[0m, in \u001B[0;36m_find_and_load\u001B[0;34m(name, import_)\u001B[0m\n",
      "File \u001B[0;32m<frozen importlib._bootstrap>:982\u001B[0m, in \u001B[0;36m_find_and_load_unlocked\u001B[0;34m(name, import_)\u001B[0m\n",
      "File \u001B[0;32m<frozen importlib._bootstrap>:925\u001B[0m, in \u001B[0;36m_find_spec\u001B[0;34m(name, path, target)\u001B[0m\n",
      "File \u001B[0;32m~/Documents/MLDS/UDA/test2/UDA_test/lib/python3.9/site-packages/yt_dlp/plugins.py:97\u001B[0m, in \u001B[0;36mPluginFinder.find_spec\u001B[0;34m(self, fullname, path, target)\u001B[0m\n\u001B[1;32m     94\u001B[0m \u001B[38;5;28;01mif\u001B[39;00m fullname \u001B[38;5;129;01mnot\u001B[39;00m \u001B[38;5;129;01min\u001B[39;00m \u001B[38;5;28mself\u001B[39m\u001B[38;5;241m.\u001B[39mpackages:\n\u001B[1;32m     95\u001B[0m     \u001B[38;5;28;01mreturn\u001B[39;00m \u001B[38;5;28;01mNone\u001B[39;00m\n\u001B[0;32m---> 97\u001B[0m search_locations \u001B[38;5;241m=\u001B[39m \u001B[38;5;28;43mself\u001B[39;49m\u001B[38;5;241;43m.\u001B[39;49m\u001B[43msearch_locations\u001B[49m\u001B[43m(\u001B[49m\u001B[43mfullname\u001B[49m\u001B[43m)\u001B[49m\n\u001B[1;32m     98\u001B[0m \u001B[38;5;28;01mif\u001B[39;00m \u001B[38;5;129;01mnot\u001B[39;00m search_locations:\n\u001B[1;32m     99\u001B[0m     \u001B[38;5;28;01mreturn\u001B[39;00m \u001B[38;5;28;01mNone\u001B[39;00m\n",
      "File \u001B[0;32m~/Documents/MLDS/UDA/test2/UDA_test/lib/python3.9/site-packages/yt_dlp/plugins.py:89\u001B[0m, in \u001B[0;36mPluginFinder.search_locations\u001B[0;34m(self, fullname)\u001B[0m\n\u001B[1;32m     87\u001B[0m     \u001B[38;5;28;01melif\u001B[39;00m path\u001B[38;5;241m.\u001B[39mname \u001B[38;5;129;01mand\u001B[39;00m \u001B[38;5;28many\u001B[39m(path\u001B[38;5;241m.\u001B[39mwith_suffix(suffix)\u001B[38;5;241m.\u001B[39mis_file() \u001B[38;5;28;01mfor\u001B[39;00m suffix \u001B[38;5;129;01min\u001B[39;00m {\u001B[38;5;124m'\u001B[39m\u001B[38;5;124m.zip\u001B[39m\u001B[38;5;124m'\u001B[39m, \u001B[38;5;124m'\u001B[39m\u001B[38;5;124m.egg\u001B[39m\u001B[38;5;124m'\u001B[39m, \u001B[38;5;124m'\u001B[39m\u001B[38;5;124m.whl\u001B[39m\u001B[38;5;124m'\u001B[39m}):\n\u001B[1;32m     88\u001B[0m         \u001B[38;5;28;01mwith\u001B[39;00m contextlib\u001B[38;5;241m.\u001B[39msuppress(\u001B[38;5;167;01mFileNotFoundError\u001B[39;00m):\n\u001B[0;32m---> 89\u001B[0m             \u001B[38;5;28;01mif\u001B[39;00m parts \u001B[38;5;129;01min\u001B[39;00m \u001B[43mdirs_in_zip\u001B[49m\u001B[43m(\u001B[49m\u001B[43mpath\u001B[49m\u001B[43m)\u001B[49m:\n\u001B[1;32m     90\u001B[0m                 locations\u001B[38;5;241m.\u001B[39madd(\u001B[38;5;28mstr\u001B[39m(candidate))\n\u001B[1;32m     91\u001B[0m \u001B[38;5;28;01mreturn\u001B[39;00m locations\n",
      "File \u001B[0;32m~/Documents/MLDS/UDA/test2/UDA_test/lib/python3.9/site-packages/yt_dlp/plugins.py:38\u001B[0m, in \u001B[0;36mdirs_in_zip\u001B[0;34m(archive)\u001B[0m\n\u001B[1;32m     36\u001B[0m \u001B[38;5;129m@functools\u001B[39m\u001B[38;5;241m.\u001B[39mcache\n\u001B[1;32m     37\u001B[0m \u001B[38;5;28;01mdef\u001B[39;00m \u001B[38;5;21mdirs_in_zip\u001B[39m(archive):\n\u001B[0;32m---> 38\u001B[0m     \u001B[38;5;28;01mwith\u001B[39;00m \u001B[43mZipFile\u001B[49m\u001B[43m(\u001B[49m\u001B[43marchive\u001B[49m\u001B[43m)\u001B[49m \u001B[38;5;28;01mas\u001B[39;00m \u001B[38;5;28mzip\u001B[39m:\n\u001B[1;32m     39\u001B[0m         \u001B[38;5;28;01mreturn\u001B[39;00m \u001B[38;5;28mset\u001B[39m(itertools\u001B[38;5;241m.\u001B[39mchain\u001B[38;5;241m.\u001B[39mfrom_iterable(\n\u001B[1;32m     40\u001B[0m             Path(file)\u001B[38;5;241m.\u001B[39mparents \u001B[38;5;28;01mfor\u001B[39;00m file \u001B[38;5;129;01min\u001B[39;00m \u001B[38;5;28mzip\u001B[39m\u001B[38;5;241m.\u001B[39mnamelist()))\n",
      "File \u001B[0;32m/usr/local/Cellar/python@3.9/3.9.2_4/Frameworks/Python.framework/Versions/3.9/lib/python3.9/zipfile.py:1239\u001B[0m, in \u001B[0;36mZipFile.__init__\u001B[0;34m(self, file, mode, compression, allowZip64, compresslevel, strict_timestamps)\u001B[0m\n\u001B[1;32m   1237\u001B[0m \u001B[38;5;28;01mwhile\u001B[39;00m \u001B[38;5;28;01mTrue\u001B[39;00m:\n\u001B[1;32m   1238\u001B[0m     \u001B[38;5;28;01mtry\u001B[39;00m:\n\u001B[0;32m-> 1239\u001B[0m         \u001B[38;5;28mself\u001B[39m\u001B[38;5;241m.\u001B[39mfp \u001B[38;5;241m=\u001B[39m \u001B[43mio\u001B[49m\u001B[38;5;241;43m.\u001B[39;49m\u001B[43mopen\u001B[49m\u001B[43m(\u001B[49m\u001B[43mfile\u001B[49m\u001B[43m,\u001B[49m\u001B[43m \u001B[49m\u001B[43mfilemode\u001B[49m\u001B[43m)\u001B[49m\n\u001B[1;32m   1240\u001B[0m     \u001B[38;5;28;01mexcept\u001B[39;00m \u001B[38;5;167;01mOSError\u001B[39;00m:\n\u001B[1;32m   1241\u001B[0m         \u001B[38;5;28;01mif\u001B[39;00m filemode \u001B[38;5;129;01min\u001B[39;00m modeDict:\n",
      "\u001B[0;31mIsADirectoryError\u001B[0m: [Errno 21] Is a directory: '/Users/hhayat002/Documents/UDA_test/UDA_Final_project_Hayat'"
     ]
    }
   ],
   "source": [
    "# Import functions\n",
    "from deoldify.visualize import *\n",
    "from deoldify.visualize import get_image_colorizer\n",
    "plt.style.use('dark_background')\n",
    "import warnings\n",
    "warnings.filterwarnings(\"ignore\", category=UserWarning, message=\".*?Your .*? set is empty.*?\")"
   ],
   "metadata": {
    "collapsed": false,
    "pycharm": {
     "name": "#%%\n"
    }
   }
  },
  {
   "cell_type": "code",
   "execution_count": null,
   "outputs": [],
   "source": [
    "#Adjust render_factor (int) if image doesn't look quite right (max 64 on 11GB GPU).  The default here works for most photos.\n",
    "#It literally just is a number multiplied by 16 to get the square render resolution.\n",
    "#Note that this doesn't affect the resolution of the final output- the output is the same resolution as the input.\n",
    "#Example:  render_factor=21 => color is rendered at 16x21 = 336x336 px."
   ],
   "metadata": {
    "collapsed": false,
    "pycharm": {
     "name": "#%%\n"
    }
   }
  },
  {
   "cell_type": "markdown",
   "source": [
    "### Artistic model"
   ],
   "metadata": {
    "collapsed": false,
    "pycharm": {
     "name": "#%% md\n"
    }
   }
  },
  {
   "cell_type": "code",
   "execution_count": 25,
   "outputs": [
    {
     "name": "stderr",
     "output_type": "stream",
     "text": [
      "/Users/hhayat002/Documents/MLDS/UDA/test2/lib/python3.9/site-packages/torchvision/models/_utils.py:135: UserWarning: Using 'weights' as positional parameter(s) is deprecated since 0.13 and may be removed in the future. Please use keyword parameter(s) instead.\n",
      "  warnings.warn(\n",
      "/Users/hhayat002/Documents/MLDS/UDA/test2/lib/python3.9/site-packages/torchvision/models/_utils.py:223: UserWarning: Arguments other than a weight enum or `None` for 'weights' are deprecated since 0.13 and may be removed in the future. The current behavior is equivalent to passing `weights=ResNet34_Weights.IMAGENET1K_V1`. You can also use `weights=ResNet34_Weights.DEFAULT` to get the most up-to-date weights.\n",
      "  warnings.warn(msg)\n"
     ]
    }
   ],
   "source": [
    "# Default render factor is 35, however I achieved better results with 40 but takes more time to run\n",
    "# Can potentially be increased further with a GPU\n",
    "\n",
    "# Initialise artistic colouriser\n",
    "vis_artistic = get_image_colorizer(render_factor=35, artistic=True)"
   ],
   "metadata": {
    "collapsed": false,
    "pycharm": {
     "name": "#%%\n"
    }
   }
  },
  {
   "cell_type": "code",
   "execution_count": null,
   "outputs": [],
   "source": [
    "# Get synthetic black and white images\n",
    "images = [join('test_images_bw/', f) for f in listdir('test_images_bw/') if basename(f).split('.')[1] in ['jpeg', 'jpg', 'png']]"
   ],
   "metadata": {
    "collapsed": false,
    "pycharm": {
     "name": "#%%\n"
    }
   }
  },
  {
   "cell_type": "code",
   "execution_count": null,
   "outputs": [],
   "source": [
    "# Prepare output folders\n",
    "try:\n",
    "\tmkdir('out_deoldify')\n",
    "except FileExistsError:\n",
    "\tpass\n",
    "\n",
    "try:\n",
    "\tmkdir('out_deoldify/Artistic')\n",
    "except FileExistsError:\n",
    "\tpass\n",
    "\n",
    "try:\n",
    "\tmkdir('out_deoldify/Stable')\n",
    "except FileExistsError:\n",
    "\tpass"
   ],
   "metadata": {
    "collapsed": false,
    "pycharm": {
     "name": "#%%\n"
    }
   }
  },
  {
   "cell_type": "code",
   "source": [
    "# Apply Artistic model\n",
    "# Default render factors for images themselves is 38. I achieved better results with 50.\n",
    "for image in images:\n",
    "\tvis_artistic.plot_transformed_image(image, render_factor=38, results_dir=Path('out_deoldify/Artistic/'), watermarked=False)\n",
    "\n",
    "# The results are included in the fourth column of Figure 6 in the pdf."
   ],
   "metadata": {
    "collapsed": false,
    "pycharm": {
     "name": "#%%\n"
    }
   },
   "execution_count": null,
   "outputs": []
  },
  {
   "cell_type": "markdown",
   "source": [
    "### Stable model"
   ],
   "metadata": {
    "collapsed": false,
    "pycharm": {
     "name": "#%% md\n"
    }
   }
  },
  {
   "cell_type": "code",
   "execution_count": null,
   "outputs": [],
   "source": [
    "# Default render factor is 35, but I achieved better results with 45\n",
    "\n",
    "# Initialise stable colouriser\n",
    "vis_stable = get_image_colorizer(render_factor=35, artistic=False)"
   ],
   "metadata": {
    "collapsed": false,
    "pycharm": {
     "name": "#%%\n"
    }
   }
  },
  {
   "cell_type": "code",
   "execution_count": null,
   "outputs": [],
   "source": [
    "# Default render_factor:38\n",
    "# Optimal solution achieved at 55\n",
    "for image in images:\n",
    "\tvis_stable.plot_transformed_image(image, render_factor=38, results_dir=Path('out_deoldify/Stable/'), watermarked=False)\n"
   ],
   "metadata": {
    "collapsed": false,
    "pycharm": {
     "name": "#%%\n"
    }
   }
  },
  {
   "cell_type": "markdown",
   "source": [
    "## Apply DeOldify to old photos"
   ],
   "metadata": {
    "collapsed": false,
    "pycharm": {
     "name": "#%% md\n"
    }
   }
  },
  {
   "cell_type": "code",
   "execution_count": null,
   "outputs": [],
   "source": [
    "images_old = [join('old_images/', f) for f in listdir('old_images/') if basename(f).split('.')[1] in ['jpeg', 'jpg', 'png']]"
   ],
   "metadata": {
    "collapsed": false,
    "pycharm": {
     "name": "#%%\n"
    }
   }
  },
  {
   "cell_type": "code",
   "execution_count": null,
   "outputs": [],
   "source": [
    "# Figure 7 and 8 results from pdf:\n",
    "for image in images_old:\n",
    "\tvis_artistic.plot_transformed_image(image, render_factor=38, results_dir=Path('out_deoldify/Artistic/'), watermarked=False)"
   ],
   "metadata": {
    "collapsed": false,
    "pycharm": {
     "name": "#%%\n"
    }
   }
  },
  {
   "cell_type": "code",
   "execution_count": null,
   "outputs": [],
   "source": [
    "# Figure 7 and 8 results from pdf:\n",
    "for image in images_old:\n",
    "\tvis_stable.plot_transformed_image(image, render_factor=38, results_dir=Path('out_deoldify/Stable/'), watermarked=False)"
   ],
   "metadata": {
    "collapsed": false,
    "pycharm": {
     "name": "#%%\n"
    }
   }
  },
  {
   "cell_type": "code",
   "execution_count": null,
   "outputs": [],
   "source": [
    "b=datetime.now()\n",
    "b-a"
   ],
   "metadata": {
    "collapsed": false,
    "pycharm": {
     "name": "#%%\n"
    }
   }
  }
 ],
 "metadata": {
  "kernelspec": {
   "display_name": "Python 3",
   "language": "python",
   "name": "python3"
  },
  "language_info": {
   "codemirror_mode": {
    "name": "ipython",
    "version": 2
   },
   "file_extension": ".py",
   "mimetype": "text/x-python",
   "name": "python",
   "nbconvert_exporter": "python",
   "pygments_lexer": "ipython2",
   "version": "2.7.6"
  }
 },
 "nbformat": 4,
 "nbformat_minor": 0
}